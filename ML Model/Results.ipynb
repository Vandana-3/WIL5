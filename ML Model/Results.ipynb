{
 "cells": [
  {
   "cell_type": "code",
   "execution_count": 198,
   "metadata": {},
   "outputs": [],
   "source": [
    "import pandas as pd\n",
    "from sklearn.model_selection import train_test_split\n",
    "from sklearn.ensemble import RandomForestClassifier\n",
    "from sklearn.metrics import classification_report\n",
    "from sklearn.model_selection import GridSearchCV\n",
    "from imblearn.over_sampling import SMOTE\n",
    "import pickle\n",
    "from faker import Faker\n"
   ]
  },
  {
   "cell_type": "code",
   "execution_count": 161,
   "metadata": {},
   "outputs": [],
   "source": [
    "df = pd.read_csv('/Users/meghakatiyar/M2M_WIL5/WIL5/Data/synthetic_data_new.csv')\n",
    "df = df.fillna('None') ## to change NaN values to \"None\""
   ]
  },
  {
   "cell_type": "code",
   "execution_count": 162,
   "metadata": {},
   "outputs": [
    {
     "data": {
      "text/html": [
       "<div>\n",
       "<style scoped>\n",
       "    .dataframe tbody tr th:only-of-type {\n",
       "        vertical-align: middle;\n",
       "    }\n",
       "\n",
       "    .dataframe tbody tr th {\n",
       "        vertical-align: top;\n",
       "    }\n",
       "\n",
       "    .dataframe thead th {\n",
       "        text-align: right;\n",
       "    }\n",
       "</style>\n",
       "<table border=\"1\" class=\"dataframe\">\n",
       "  <thead>\n",
       "    <tr style=\"text-align: right;\">\n",
       "      <th></th>\n",
       "      <th>Entity ID</th>\n",
       "      <th>Annual Clients</th>\n",
       "      <th>Infraction Type</th>\n",
       "      <th>Infraction Timeline</th>\n",
       "      <th>Public Complaints</th>\n",
       "      <th>Sentiment Analysis</th>\n",
       "      <th>Inspection Results</th>\n",
       "      <th>Total Risk Score</th>\n",
       "      <th>Risk Category</th>\n",
       "    </tr>\n",
       "  </thead>\n",
       "  <tbody>\n",
       "    <tr>\n",
       "      <th>0</th>\n",
       "      <td>E0000</td>\n",
       "      <td>34</td>\n",
       "      <td>None</td>\n",
       "      <td>None</td>\n",
       "      <td>Minor</td>\n",
       "      <td>None</td>\n",
       "      <td>Pass</td>\n",
       "      <td>7</td>\n",
       "      <td>Moderate</td>\n",
       "    </tr>\n",
       "    <tr>\n",
       "      <th>1</th>\n",
       "      <td>E0001</td>\n",
       "      <td>91</td>\n",
       "      <td>None</td>\n",
       "      <td>None</td>\n",
       "      <td>None</td>\n",
       "      <td>None</td>\n",
       "      <td>Fail</td>\n",
       "      <td>7</td>\n",
       "      <td>Moderate</td>\n",
       "    </tr>\n",
       "    <tr>\n",
       "      <th>2</th>\n",
       "      <td>E0002</td>\n",
       "      <td>191</td>\n",
       "      <td>None</td>\n",
       "      <td>None</td>\n",
       "      <td>None</td>\n",
       "      <td>None</td>\n",
       "      <td>Pass</td>\n",
       "      <td>6</td>\n",
       "      <td>Low</td>\n",
       "    </tr>\n",
       "    <tr>\n",
       "      <th>3</th>\n",
       "      <td>E0003</td>\n",
       "      <td>143</td>\n",
       "      <td>Minor</td>\n",
       "      <td>None</td>\n",
       "      <td>None</td>\n",
       "      <td>None</td>\n",
       "      <td>Pass</td>\n",
       "      <td>7</td>\n",
       "      <td>Moderate</td>\n",
       "    </tr>\n",
       "    <tr>\n",
       "      <th>4</th>\n",
       "      <td>E0004</td>\n",
       "      <td>38</td>\n",
       "      <td>None</td>\n",
       "      <td>None</td>\n",
       "      <td>None</td>\n",
       "      <td>None</td>\n",
       "      <td>Pass</td>\n",
       "      <td>6</td>\n",
       "      <td>Low</td>\n",
       "    </tr>\n",
       "  </tbody>\n",
       "</table>\n",
       "</div>"
      ],
      "text/plain": [
       "  Entity ID  Annual Clients Infraction Type Infraction Timeline  \\\n",
       "0     E0000              34            None                None   \n",
       "1     E0001              91            None                None   \n",
       "2     E0002             191            None                None   \n",
       "3     E0003             143           Minor                None   \n",
       "4     E0004              38            None                None   \n",
       "\n",
       "  Public Complaints Sentiment Analysis Inspection Results  Total Risk Score  \\\n",
       "0             Minor               None               Pass                 7   \n",
       "1              None               None               Fail                 7   \n",
       "2              None               None               Pass                 6   \n",
       "3              None               None               Pass                 7   \n",
       "4              None               None               Pass                 6   \n",
       "\n",
       "  Risk Category  \n",
       "0      Moderate  \n",
       "1      Moderate  \n",
       "2           Low  \n",
       "3      Moderate  \n",
       "4           Low  "
      ]
     },
     "execution_count": 162,
     "metadata": {},
     "output_type": "execute_result"
    }
   ],
   "source": [
    "df.head()"
   ]
  },
  {
   "cell_type": "code",
   "execution_count": 163,
   "metadata": {},
   "outputs": [],
   "source": [
    "df=df.drop(columns=['Entity ID'])"
   ]
  },
  {
   "cell_type": "markdown",
   "metadata": {},
   "source": [
    "#### Econding Categorical data to integer"
   ]
  },
  {
   "cell_type": "code",
   "execution_count": 164,
   "metadata": {},
   "outputs": [],
   "source": [
    "def encoding(item):\n",
    "    if item in ['Low']:\n",
    "        return 0\n",
    "    elif item in ['Pass', 'Moderate', 'None']:\n",
    "        return 1\n",
    "    elif item in ['Minor', 'Fail', 'Within past year', 'Flagged', 'High']:\n",
    "        return 2\n",
    "    elif item in ['Within past 1-3 years', 'Major']:\n",
    "        return 3\n",
    "    elif isinstance(item, (int, float)) and item < 200:\n",
    "        return 1\n",
    "    elif isinstance(item, (int, float)) and 200 <= item <= 500:\n",
    "        return 2\n",
    "    else:\n",
    "        return 3"
   ]
  },
  {
   "cell_type": "code",
   "execution_count": 165,
   "metadata": {},
   "outputs": [
    {
     "data": {
      "text/html": [
       "<div>\n",
       "<style scoped>\n",
       "    .dataframe tbody tr th:only-of-type {\n",
       "        vertical-align: middle;\n",
       "    }\n",
       "\n",
       "    .dataframe tbody tr th {\n",
       "        vertical-align: top;\n",
       "    }\n",
       "\n",
       "    .dataframe thead th {\n",
       "        text-align: right;\n",
       "    }\n",
       "</style>\n",
       "<table border=\"1\" class=\"dataframe\">\n",
       "  <thead>\n",
       "    <tr style=\"text-align: right;\">\n",
       "      <th></th>\n",
       "      <th>Annual Clients</th>\n",
       "      <th>Infraction Type</th>\n",
       "      <th>Infraction Timeline</th>\n",
       "      <th>Public Complaints</th>\n",
       "      <th>Sentiment Analysis</th>\n",
       "      <th>Inspection Results</th>\n",
       "      <th>Total Risk Score</th>\n",
       "      <th>Risk Category</th>\n",
       "    </tr>\n",
       "  </thead>\n",
       "  <tbody>\n",
       "    <tr>\n",
       "      <th>0</th>\n",
       "      <td>1</td>\n",
       "      <td>1</td>\n",
       "      <td>1</td>\n",
       "      <td>2</td>\n",
       "      <td>1</td>\n",
       "      <td>1</td>\n",
       "      <td>7</td>\n",
       "      <td>Moderate</td>\n",
       "    </tr>\n",
       "    <tr>\n",
       "      <th>1</th>\n",
       "      <td>1</td>\n",
       "      <td>1</td>\n",
       "      <td>1</td>\n",
       "      <td>1</td>\n",
       "      <td>1</td>\n",
       "      <td>2</td>\n",
       "      <td>7</td>\n",
       "      <td>Moderate</td>\n",
       "    </tr>\n",
       "    <tr>\n",
       "      <th>2</th>\n",
       "      <td>1</td>\n",
       "      <td>1</td>\n",
       "      <td>1</td>\n",
       "      <td>1</td>\n",
       "      <td>1</td>\n",
       "      <td>1</td>\n",
       "      <td>6</td>\n",
       "      <td>Low</td>\n",
       "    </tr>\n",
       "    <tr>\n",
       "      <th>3</th>\n",
       "      <td>1</td>\n",
       "      <td>2</td>\n",
       "      <td>1</td>\n",
       "      <td>1</td>\n",
       "      <td>1</td>\n",
       "      <td>1</td>\n",
       "      <td>7</td>\n",
       "      <td>Moderate</td>\n",
       "    </tr>\n",
       "    <tr>\n",
       "      <th>4</th>\n",
       "      <td>1</td>\n",
       "      <td>1</td>\n",
       "      <td>1</td>\n",
       "      <td>1</td>\n",
       "      <td>1</td>\n",
       "      <td>1</td>\n",
       "      <td>6</td>\n",
       "      <td>Low</td>\n",
       "    </tr>\n",
       "  </tbody>\n",
       "</table>\n",
       "</div>"
      ],
      "text/plain": [
       "   Annual Clients  Infraction Type  Infraction Timeline  Public Complaints  \\\n",
       "0               1                1                    1                  2   \n",
       "1               1                1                    1                  1   \n",
       "2               1                1                    1                  1   \n",
       "3               1                2                    1                  1   \n",
       "4               1                1                    1                  1   \n",
       "\n",
       "   Sentiment Analysis  Inspection Results  Total Risk Score Risk Category  \n",
       "0                   1                   1                 7      Moderate  \n",
       "1                   1                   2                 7      Moderate  \n",
       "2                   1                   1                 6           Low  \n",
       "3                   1                   1                 7      Moderate  \n",
       "4                   1                   1                 6           Low  "
      ]
     },
     "execution_count": 165,
     "metadata": {},
     "output_type": "execute_result"
    }
   ],
   "source": [
    "exclude_columns = ['Total Risk Score', 'Risk Category']\n",
    "#Encoding all the columns except for risk Score & Risk result\n",
    "encode_columns = [col for col in df.columns if col not in exclude_columns]\n",
    "\n",
    "for col in encode_columns:\n",
    "    df[col] = df[col].apply(encoding)\n",
    "\n",
    "df.head()"
   ]
  },
  {
   "cell_type": "markdown",
   "metadata": {},
   "source": [
    "#### Train Test Split"
   ]
  },
  {
   "cell_type": "code",
   "execution_count": 166,
   "metadata": {},
   "outputs": [],
   "source": [
    "# Split data into training and test sets\n",
    "\n",
    "y = df['Risk Category']\n",
    "x = df.drop(columns=['Risk Category','Total Risk Score'])\n",
    "\n",
    "x_train,x_test,y_train,y_test=train_test_split(x,y,test_size=0.2,random_state=101)"
   ]
  },
  {
   "cell_type": "markdown",
   "metadata": {},
   "source": [
    "#### Balance Classes\n"
   ]
  },
  {
   "cell_type": "code",
   "execution_count": 167,
   "metadata": {},
   "outputs": [
    {
     "data": {
      "text/html": [
       "<div>\n",
       "<style scoped>\n",
       "    .dataframe tbody tr th:only-of-type {\n",
       "        vertical-align: middle;\n",
       "    }\n",
       "\n",
       "    .dataframe tbody tr th {\n",
       "        vertical-align: top;\n",
       "    }\n",
       "\n",
       "    .dataframe thead th {\n",
       "        text-align: right;\n",
       "    }\n",
       "</style>\n",
       "<table border=\"1\" class=\"dataframe\">\n",
       "  <thead>\n",
       "    <tr style=\"text-align: right;\">\n",
       "      <th></th>\n",
       "      <th>Annual Clients</th>\n",
       "      <th>Infraction Type</th>\n",
       "      <th>Infraction Timeline</th>\n",
       "      <th>Public Complaints</th>\n",
       "      <th>Sentiment Analysis</th>\n",
       "      <th>Inspection Results</th>\n",
       "    </tr>\n",
       "  </thead>\n",
       "  <tbody>\n",
       "    <tr>\n",
       "      <th>3413</th>\n",
       "      <td>1</td>\n",
       "      <td>1</td>\n",
       "      <td>1</td>\n",
       "      <td>1</td>\n",
       "      <td>1</td>\n",
       "      <td>1</td>\n",
       "    </tr>\n",
       "    <tr>\n",
       "      <th>1610</th>\n",
       "      <td>1</td>\n",
       "      <td>1</td>\n",
       "      <td>1</td>\n",
       "      <td>1</td>\n",
       "      <td>1</td>\n",
       "      <td>1</td>\n",
       "    </tr>\n",
       "    <tr>\n",
       "      <th>3459</th>\n",
       "      <td>1</td>\n",
       "      <td>3</td>\n",
       "      <td>1</td>\n",
       "      <td>1</td>\n",
       "      <td>1</td>\n",
       "      <td>2</td>\n",
       "    </tr>\n",
       "    <tr>\n",
       "      <th>4293</th>\n",
       "      <td>1</td>\n",
       "      <td>1</td>\n",
       "      <td>1</td>\n",
       "      <td>1</td>\n",
       "      <td>2</td>\n",
       "      <td>1</td>\n",
       "    </tr>\n",
       "    <tr>\n",
       "      <th>1039</th>\n",
       "      <td>1</td>\n",
       "      <td>1</td>\n",
       "      <td>1</td>\n",
       "      <td>1</td>\n",
       "      <td>1</td>\n",
       "      <td>1</td>\n",
       "    </tr>\n",
       "  </tbody>\n",
       "</table>\n",
       "</div>"
      ],
      "text/plain": [
       "      Annual Clients  Infraction Type  Infraction Timeline  Public Complaints  \\\n",
       "3413               1                1                    1                  1   \n",
       "1610               1                1                    1                  1   \n",
       "3459               1                3                    1                  1   \n",
       "4293               1                1                    1                  1   \n",
       "1039               1                1                    1                  1   \n",
       "\n",
       "      Sentiment Analysis  Inspection Results  \n",
       "3413                   1                   1  \n",
       "1610                   1                   1  \n",
       "3459                   1                   2  \n",
       "4293                   2                   1  \n",
       "1039                   1                   1  "
      ]
     },
     "execution_count": 167,
     "metadata": {},
     "output_type": "execute_result"
    }
   ],
   "source": [
    "x_train.head()"
   ]
  },
  {
   "cell_type": "code",
   "execution_count": 168,
   "metadata": {},
   "outputs": [],
   "source": [
    "smote = SMOTE(random_state=42)\n",
    "x_train_resampled,y_train_resampled=smote.fit_resample(x_train,y_train)"
   ]
  },
  {
   "cell_type": "markdown",
   "metadata": {},
   "source": [
    "#### Model Training -- Random Forest"
   ]
  },
  {
   "cell_type": "code",
   "execution_count": 169,
   "metadata": {},
   "outputs": [
    {
     "name": "stdout",
     "output_type": "stream",
     "text": [
      "tuned hyperparameters: (best parameters) {'min_samples_leaf': 1, 'min_samples_split': 2, 'n_estimators': 20}\n",
      "Best Parameters Accuracy score: 0.9880386983289359\n"
     ]
    }
   ],
   "source": [
    "# Train Random Forest model with best hyperparameters\n",
    "\n",
    "rfc = RandomForestClassifier()\n",
    "parameters = {'min_samples_leaf':[1,2,4],'min_samples_split':[2,5,100],'n_estimators':[10,20,30,100]}\n",
    "rfc_cv=GridSearchCV(rfc,parameters)\n",
    "rfc_cv.fit(x_train_resampled,y_train_resampled)\n",
    "print('tuned hyperparameters: (best parameters)',rfc_cv.best_params_)\n",
    "print('Best Parameters Accuracy score:', rfc_cv.best_score_)"
   ]
  },
  {
   "cell_type": "code",
   "execution_count": 170,
   "metadata": {},
   "outputs": [],
   "source": [
    "# Make predictions\n",
    "y_predict=rfc_cv.predict(x_test)"
   ]
  },
  {
   "cell_type": "code",
   "execution_count": 171,
   "metadata": {},
   "outputs": [
    {
     "name": "stdout",
     "output_type": "stream",
     "text": [
      "              precision    recall  f1-score   support\n",
      "\n",
      "        High       0.89      0.96      0.92        50\n",
      "         Low       0.98      1.00      0.99       489\n",
      "    Moderate       1.00      0.97      0.98       461\n",
      "\n",
      "    accuracy                           0.98      1000\n",
      "   macro avg       0.96      0.98      0.97      1000\n",
      "weighted avg       0.98      0.98      0.98      1000\n",
      "\n"
     ]
    }
   ],
   "source": [
    "# Evaluate the model\n",
    "print(classification_report(y_test, y_predict))"
   ]
  },
  {
   "cell_type": "markdown",
   "metadata": {},
   "source": [
    "#### Export Model"
   ]
  },
  {
   "cell_type": "code",
   "execution_count": 172,
   "metadata": {},
   "outputs": [],
   "source": [
    "model_path = '/Users/meghakatiyar/M2M_WIL5/WIL5/ML Model/RiskPredictor_v3.pkl'\n",
    "with open(model_path, 'wb') as file:\n",
    "    pickle.dump(rfc_cv, file)"
   ]
  },
  {
   "cell_type": "markdown",
   "metadata": {},
   "source": [
    "#### Loading Model"
   ]
  },
  {
   "cell_type": "code",
   "execution_count": 173,
   "metadata": {},
   "outputs": [],
   "source": [
    "with open(model_path, 'rb') as file:\n",
    "    model = pickle.load(file)"
   ]
  },
  {
   "cell_type": "markdown",
   "metadata": {},
   "source": [
    "#### Preparing the data to predict"
   ]
  },
  {
   "cell_type": "code",
   "execution_count": 185,
   "metadata": {},
   "outputs": [],
   "source": [
    "df_dashboard = pd.read_csv('/Users/meghakatiyar/M2M_WIL5/WIL5/Data/synthetic_data_dashboard.csv')\n",
    "df_dashboard_copy=df_dashboard.copy()\n",
    "df_dashboard_copy = df_dashboard_copy.fillna('None') ## to change NaN values to \"None\"\n",
    "\n",
    "y_dash=df_dashboard_copy['Risk Category']\n",
    "x_dash=df_dashboard_copy.drop(columns=['Entity ID','Risk Category','Total Risk Score'])\n"
   ]
  },
  {
   "cell_type": "code",
   "execution_count": 186,
   "metadata": {},
   "outputs": [],
   "source": [
    "encode_columns = x_dash.columns  # Assuming all columns in x_dash need encoding\n",
    "for col in encode_columns:\n",
    "    x_dash[col] = x_dash[col].apply(encoding)"
   ]
  },
  {
   "cell_type": "code",
   "execution_count": 187,
   "metadata": {},
   "outputs": [],
   "source": [
    "# Make predictions\n",
    "y_predict_dash=model.predict(x_dash)"
   ]
  },
  {
   "cell_type": "code",
   "execution_count": 188,
   "metadata": {},
   "outputs": [],
   "source": [
    "df_dashboard_predicted=df_dashboard.copy()\n",
    "df_dashboard_predicted['Predicted Risk Category'] = y_predict_dash\n",
    "df_dashboard_predicted = df_dashboard_predicted.fillna('None')\n"
   ]
  },
  {
   "cell_type": "code",
   "execution_count": 189,
   "metadata": {},
   "outputs": [
    {
     "data": {
      "text/html": [
       "<div>\n",
       "<style scoped>\n",
       "    .dataframe tbody tr th:only-of-type {\n",
       "        vertical-align: middle;\n",
       "    }\n",
       "\n",
       "    .dataframe tbody tr th {\n",
       "        vertical-align: top;\n",
       "    }\n",
       "\n",
       "    .dataframe thead th {\n",
       "        text-align: right;\n",
       "    }\n",
       "</style>\n",
       "<table border=\"1\" class=\"dataframe\">\n",
       "  <thead>\n",
       "    <tr style=\"text-align: right;\">\n",
       "      <th></th>\n",
       "      <th>Entity ID</th>\n",
       "      <th>Annual Clients</th>\n",
       "      <th>Infraction Type</th>\n",
       "      <th>Infraction Timeline</th>\n",
       "      <th>Public Complaints</th>\n",
       "      <th>Sentiment Analysis</th>\n",
       "      <th>Inspection Results</th>\n",
       "      <th>Total Risk Score</th>\n",
       "      <th>Risk Category</th>\n",
       "      <th>Predicted Risk Category</th>\n",
       "    </tr>\n",
       "  </thead>\n",
       "  <tbody>\n",
       "    <tr>\n",
       "      <th>0</th>\n",
       "      <td>E0000</td>\n",
       "      <td>179</td>\n",
       "      <td>None</td>\n",
       "      <td>Within past year</td>\n",
       "      <td>None</td>\n",
       "      <td>None</td>\n",
       "      <td>Pass</td>\n",
       "      <td>8</td>\n",
       "      <td>Moderate</td>\n",
       "      <td>Moderate</td>\n",
       "    </tr>\n",
       "    <tr>\n",
       "      <th>1</th>\n",
       "      <td>E0001</td>\n",
       "      <td>138</td>\n",
       "      <td>None</td>\n",
       "      <td>None</td>\n",
       "      <td>None</td>\n",
       "      <td>None</td>\n",
       "      <td>Pass</td>\n",
       "      <td>6</td>\n",
       "      <td>Low</td>\n",
       "      <td>Low</td>\n",
       "    </tr>\n",
       "    <tr>\n",
       "      <th>2</th>\n",
       "      <td>E0002</td>\n",
       "      <td>157</td>\n",
       "      <td>None</td>\n",
       "      <td>None</td>\n",
       "      <td>None</td>\n",
       "      <td>None</td>\n",
       "      <td>Pass</td>\n",
       "      <td>6</td>\n",
       "      <td>Low</td>\n",
       "      <td>Low</td>\n",
       "    </tr>\n",
       "    <tr>\n",
       "      <th>3</th>\n",
       "      <td>E0003</td>\n",
       "      <td>50</td>\n",
       "      <td>None</td>\n",
       "      <td>None</td>\n",
       "      <td>None</td>\n",
       "      <td>Flagged</td>\n",
       "      <td>Pass</td>\n",
       "      <td>7</td>\n",
       "      <td>Moderate</td>\n",
       "      <td>Moderate</td>\n",
       "    </tr>\n",
       "    <tr>\n",
       "      <th>4</th>\n",
       "      <td>E0004</td>\n",
       "      <td>150</td>\n",
       "      <td>None</td>\n",
       "      <td>None</td>\n",
       "      <td>None</td>\n",
       "      <td>None</td>\n",
       "      <td>Pass</td>\n",
       "      <td>6</td>\n",
       "      <td>Low</td>\n",
       "      <td>Low</td>\n",
       "    </tr>\n",
       "  </tbody>\n",
       "</table>\n",
       "</div>"
      ],
      "text/plain": [
       "  Entity ID  Annual Clients Infraction Type Infraction Timeline  \\\n",
       "0     E0000             179            None    Within past year   \n",
       "1     E0001             138            None                None   \n",
       "2     E0002             157            None                None   \n",
       "3     E0003              50            None                None   \n",
       "4     E0004             150            None                None   \n",
       "\n",
       "  Public Complaints Sentiment Analysis Inspection Results  Total Risk Score  \\\n",
       "0              None               None               Pass                 8   \n",
       "1              None               None               Pass                 6   \n",
       "2              None               None               Pass                 6   \n",
       "3              None            Flagged               Pass                 7   \n",
       "4              None               None               Pass                 6   \n",
       "\n",
       "  Risk Category Predicted Risk Category  \n",
       "0      Moderate                Moderate  \n",
       "1           Low                     Low  \n",
       "2           Low                     Low  \n",
       "3      Moderate                Moderate  \n",
       "4           Low                     Low  "
      ]
     },
     "execution_count": 189,
     "metadata": {},
     "output_type": "execute_result"
    }
   ],
   "source": [
    "df_dashboard_predicted.head()"
   ]
  },
  {
   "cell_type": "code",
   "execution_count": 191,
   "metadata": {},
   "outputs": [
    {
     "name": "stdout",
     "output_type": "stream",
     "text": [
      "Predicted Risk Category\n",
      "Low         2350\n",
      "Moderate    2344\n",
      "High         306\n",
      "Name: count, dtype: int64\n"
     ]
    }
   ],
   "source": [
    "# Count the occurrences of each risk category\n",
    "risk_category_counts = df_dashboard_predicted['Predicted Risk Category'].value_counts()\n",
    "print(risk_category_counts)"
   ]
  },
  {
   "cell_type": "markdown",
   "metadata": {},
   "source": [
    "#### Add Phone number and Address "
   ]
  },
  {
   "cell_type": "code",
   "execution_count": 194,
   "metadata": {},
   "outputs": [],
   "source": [
    "# Function to generate fake phone number\n",
    "def generate_phone_number():\n",
    "    fake = Faker()\n",
    "    return fake.phone_number()\n",
    "\n",
    "# Function to generate fake Canadian address\n",
    "def generate_canadian_address():\n",
    "    fake = Faker('en_CA')\n",
    "    return fake.address()"
   ]
  },
  {
   "cell_type": "code",
   "execution_count": 195,
   "metadata": {},
   "outputs": [],
   "source": [
    "# Add new columns with randomly generated values\n",
    "df_dashboard_predicted['Phone Number'] = [generate_phone_number() for _ in range(len(df_dashboard_predicted))]\n",
    "df_dashboard_predicted['Address'] = [generate_canadian_address() for _ in range(len(df_dashboard_predicted))]"
   ]
  },
  {
   "cell_type": "code",
   "execution_count": 196,
   "metadata": {},
   "outputs": [
    {
     "data": {
      "text/html": [
       "<div>\n",
       "<style scoped>\n",
       "    .dataframe tbody tr th:only-of-type {\n",
       "        vertical-align: middle;\n",
       "    }\n",
       "\n",
       "    .dataframe tbody tr th {\n",
       "        vertical-align: top;\n",
       "    }\n",
       "\n",
       "    .dataframe thead th {\n",
       "        text-align: right;\n",
       "    }\n",
       "</style>\n",
       "<table border=\"1\" class=\"dataframe\">\n",
       "  <thead>\n",
       "    <tr style=\"text-align: right;\">\n",
       "      <th></th>\n",
       "      <th>Entity ID</th>\n",
       "      <th>Annual Clients</th>\n",
       "      <th>Infraction Type</th>\n",
       "      <th>Infraction Timeline</th>\n",
       "      <th>Public Complaints</th>\n",
       "      <th>Sentiment Analysis</th>\n",
       "      <th>Inspection Results</th>\n",
       "      <th>Total Risk Score</th>\n",
       "      <th>Risk Category</th>\n",
       "      <th>Predicted Risk Category</th>\n",
       "      <th>Phone Number</th>\n",
       "      <th>Address</th>\n",
       "    </tr>\n",
       "  </thead>\n",
       "  <tbody>\n",
       "    <tr>\n",
       "      <th>0</th>\n",
       "      <td>E0000</td>\n",
       "      <td>179</td>\n",
       "      <td>None</td>\n",
       "      <td>Within past year</td>\n",
       "      <td>None</td>\n",
       "      <td>None</td>\n",
       "      <td>Pass</td>\n",
       "      <td>8</td>\n",
       "      <td>Moderate</td>\n",
       "      <td>Moderate</td>\n",
       "      <td>475.699.4497</td>\n",
       "      <td>29293 Elizabeth Square\\nEast Dustin, SK E7P5N1</td>\n",
       "    </tr>\n",
       "    <tr>\n",
       "      <th>1</th>\n",
       "      <td>E0001</td>\n",
       "      <td>138</td>\n",
       "      <td>None</td>\n",
       "      <td>None</td>\n",
       "      <td>None</td>\n",
       "      <td>None</td>\n",
       "      <td>Pass</td>\n",
       "      <td>6</td>\n",
       "      <td>Low</td>\n",
       "      <td>Low</td>\n",
       "      <td>7622411646</td>\n",
       "      <td>769 Lisa Estate Suite 595\\nLawrencefurt, YT M4...</td>\n",
       "    </tr>\n",
       "    <tr>\n",
       "      <th>2</th>\n",
       "      <td>E0002</td>\n",
       "      <td>157</td>\n",
       "      <td>None</td>\n",
       "      <td>None</td>\n",
       "      <td>None</td>\n",
       "      <td>None</td>\n",
       "      <td>Pass</td>\n",
       "      <td>6</td>\n",
       "      <td>Low</td>\n",
       "      <td>Low</td>\n",
       "      <td>465.401.0811x53098</td>\n",
       "      <td>3585 Williams River\\nCarmenside, PE V8B3G9</td>\n",
       "    </tr>\n",
       "    <tr>\n",
       "      <th>3</th>\n",
       "      <td>E0003</td>\n",
       "      <td>50</td>\n",
       "      <td>None</td>\n",
       "      <td>None</td>\n",
       "      <td>None</td>\n",
       "      <td>Flagged</td>\n",
       "      <td>Pass</td>\n",
       "      <td>7</td>\n",
       "      <td>Moderate</td>\n",
       "      <td>Moderate</td>\n",
       "      <td>323.869.5764</td>\n",
       "      <td>2449 Nelson Ford\\nNorth Robert, SK C3N 2G2</td>\n",
       "    </tr>\n",
       "    <tr>\n",
       "      <th>4</th>\n",
       "      <td>E0004</td>\n",
       "      <td>150</td>\n",
       "      <td>None</td>\n",
       "      <td>None</td>\n",
       "      <td>None</td>\n",
       "      <td>None</td>\n",
       "      <td>Pass</td>\n",
       "      <td>6</td>\n",
       "      <td>Low</td>\n",
       "      <td>Low</td>\n",
       "      <td>+1-992-446-4867x17299</td>\n",
       "      <td>86729 Frederick Plaza Suite 654\\nEast Alicia, ...</td>\n",
       "    </tr>\n",
       "  </tbody>\n",
       "</table>\n",
       "</div>"
      ],
      "text/plain": [
       "  Entity ID  Annual Clients Infraction Type Infraction Timeline  \\\n",
       "0     E0000             179            None    Within past year   \n",
       "1     E0001             138            None                None   \n",
       "2     E0002             157            None                None   \n",
       "3     E0003              50            None                None   \n",
       "4     E0004             150            None                None   \n",
       "\n",
       "  Public Complaints Sentiment Analysis Inspection Results  Total Risk Score  \\\n",
       "0              None               None               Pass                 8   \n",
       "1              None               None               Pass                 6   \n",
       "2              None               None               Pass                 6   \n",
       "3              None            Flagged               Pass                 7   \n",
       "4              None               None               Pass                 6   \n",
       "\n",
       "  Risk Category Predicted Risk Category           Phone Number  \\\n",
       "0      Moderate                Moderate           475.699.4497   \n",
       "1           Low                     Low             7622411646   \n",
       "2           Low                     Low     465.401.0811x53098   \n",
       "3      Moderate                Moderate           323.869.5764   \n",
       "4           Low                     Low  +1-992-446-4867x17299   \n",
       "\n",
       "                                             Address  \n",
       "0     29293 Elizabeth Square\\nEast Dustin, SK E7P5N1  \n",
       "1  769 Lisa Estate Suite 595\\nLawrencefurt, YT M4...  \n",
       "2         3585 Williams River\\nCarmenside, PE V8B3G9  \n",
       "3         2449 Nelson Ford\\nNorth Robert, SK C3N 2G2  \n",
       "4  86729 Frederick Plaza Suite 654\\nEast Alicia, ...  "
      ]
     },
     "execution_count": 196,
     "metadata": {},
     "output_type": "execute_result"
    }
   ],
   "source": [
    "df_dashboard_predicted.head()"
   ]
  },
  {
   "cell_type": "code",
   "execution_count": 197,
   "metadata": {},
   "outputs": [],
   "source": [
    "#Save Output Dataset\n",
    "# Save to CSV\n",
    "df.to_csv('df_dashboard_predicted.csv', index=False)"
   ]
  }
 ],
 "metadata": {
  "kernelspec": {
   "display_name": "Python 3",
   "language": "python",
   "name": "python3"
  },
  "language_info": {
   "codemirror_mode": {
    "name": "ipython",
    "version": 3
   },
   "file_extension": ".py",
   "mimetype": "text/x-python",
   "name": "python",
   "nbconvert_exporter": "python",
   "pygments_lexer": "ipython3",
   "version": "3.9.6"
  }
 },
 "nbformat": 4,
 "nbformat_minor": 2
}
