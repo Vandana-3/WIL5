{
  "cells": [
    {
      "cell_type": "markdown",
      "metadata": {},
      "source": [
        "### Import libraries"
      ]
    },
    {
      "cell_type": "code",
      "execution_count": 79,
      "metadata": {},
      "outputs": [],
      "source": [
        "import random\n",
        "import pandas as pd\n",
        "import matplotlib.pyplot as plt\n",
        "import seaborn as sns"
      ]
    },
    {
      "cell_type": "markdown",
      "metadata": {},
      "source": [
        "### Define features"
      ]
    },
    {
      "cell_type": "code",
      "execution_count": 80,
      "metadata": {
        "id": "hD5FNBEkkKty"
      },
      "outputs": [],
      "source": [
        "# Define the number of entities\n",
        "num_entities = 5000\n",
        "\n",
        "# Define value ranges and probabilities for \"Low\" risk entities\n",
        "clients_range_low = [(11, 200)]\n",
        "infraction_types_low = ['None', 'Minor', 'Major']\n",
        "infraction_type_probs_low = [0.9, 0.08, 0.02]\n",
        "infraction_timelines_low = ['None', 'Within past year', 'Within past 1-3 years']\n",
        "infraction_timeline_probs_low = [0.9, 0.05, 0.05]\n",
        "complaints_low = ['None', 'Minor', 'Major']\n",
        "complaints_probs_low = [0.9, 0.08, 0.02]\n",
        "sentiments_low = ['None', 'Flagged']\n",
        "sentiments_probs_low = [0.8, 0.2]\n",
        "inspection_results_low = ['Pass', 'Fail', 'None']\n",
        "inspection_results_probs_low = [0.9, 0.08, 0.02]\n",
        "\n",
        "# Define value ranges and probabilities for \"Moderate\" risk entities\n",
        "clients_range_moderate = [(201, 500)]\n",
        "infraction_types_moderate = ['None', 'Minor', 'Major']\n",
        "infraction_type_probs_moderate = [0.4, 0.4, 0.2]\n",
        "infraction_timelines_moderate = ['None', 'Within past year', 'Within past 1-3 years']\n",
        "infraction_timeline_probs_moderate = [0.4, 0.3, 0.3]\n",
        "complaints_moderate = ['None', 'Minor', 'Major']\n",
        "complaints_probs_moderate = [0.4, 0.4, 0.2]\n",
        "sentiments_moderate = ['None', 'Flagged']\n",
        "sentiments_probs_moderate = [0.7, 0.3]\n",
        "inspection_results_moderate = ['Pass', 'Fail', 'None']\n",
        "inspection_results_probs_moderate = [0.4, 0.4, 0.2]\n",
        "\n",
        "# Define value ranges and probabilities for \"High\" risk entities\n",
        "clients_range_high = [(501, 1000)]\n",
        "infraction_types_high = ['None', 'Minor', 'Major']\n",
        "infraction_type_probs_high = [0.1, 0.3, 0.6]\n",
        "infraction_timelines_high = ['None', 'Within past year', 'Within past 1-3 years']\n",
        "infraction_timeline_probs_high = [0.1, 0.6, 0.3]\n",
        "complaints_high = ['None', 'Minor', 'Major']\n",
        "complaints_probs_high = [0.1, 0.3, 0.6]\n",
        "sentiments_high = ['None', 'Flagged']\n",
        "sentiments_probs_high = [0.1, 0.9]\n",
        "inspection_results_high = ['Pass', 'Fail', 'None']\n",
        "inspection_results_probs_high = [0.1, 0.3, 0.6]\n"
      ]
    },
    {
      "cell_type": "markdown",
      "metadata": {},
      "source": [
        "### Define Functions"
      ]
    },
    {
      "cell_type": "code",
      "execution_count": 81,
      "metadata": {},
      "outputs": [],
      "source": [
        "# Function to generate a random number of clients based on risk level\n",
        "def random_clients(risk_level):\n",
        "    if risk_level == 'Low':\n",
        "        choice = clients_range_low[0]\n",
        "    elif risk_level == 'Moderate':\n",
        "        choice = clients_range_moderate[0]\n",
        "    else:\n",
        "        choice = clients_range_high[0]\n",
        "    return random.randint(choice[0], choice[1])\n",
        "\n",
        "# Function to determine risk category based on total risk score\n",
        "def get_risk_category(risk_score):\n",
        "    if risk_score < 7:\n",
        "        return 'Low'\n",
        "    elif 7 <= risk_score <= 12:\n",
        "        return 'Moderate'\n",
        "    else:\n",
        "        return 'High'"
      ]
    },
    {
      "cell_type": "markdown",
      "metadata": {},
      "source": [
        "### Synthetic Data generation"
      ]
    },
    {
      "cell_type": "code",
      "execution_count": 82,
      "metadata": {},
      "outputs": [],
      "source": [
        "# Generate the data\n",
        "data = []\n",
        "\n",
        "# Generate 90% low risk entities\n",
        "for i in range(int(num_entities * 0.9)):\n",
        "    entity_id = f\"E{i:04d}\"\n",
        "    annual_clients = random_clients('Low')\n",
        "    infraction_type = random.choices(infraction_types_low, infraction_type_probs_low)[0]\n",
        "    infraction_timeline = random.choices(infraction_timelines_low, infraction_timeline_probs_low)[0]\n",
        "    public_complaints = random.choices(complaints_low, complaints_probs_low)[0]\n",
        "    sentiment_analysis = random.choices(sentiments_low, sentiments_probs_low)[0]\n",
        "    inspection_result = random.choices(inspection_results_low, inspection_results_probs_low)[0]\n",
        "\n",
        "    # Calculate the risk score\n",
        "    risk_score = 0\n",
        "    risk_score += 1 if annual_clients < 200 else 2 if annual_clients <= 500 else 3\n",
        "    risk_score += 1 if infraction_type == 'None' else 2 if infraction_type == 'Minor' else 3\n",
        "    risk_score += 1 if infraction_timeline == 'None' else 3 if infraction_timeline == 'Within past year' else 2\n",
        "    risk_score += 1 if public_complaints == 'None' else 2 if public_complaints == 'Minor' else 3\n",
        "    risk_score += 1 if sentiment_analysis == 'None' else 2\n",
        "    risk_score += 1 if inspection_result == 'Pass' else 2 if inspection_result == 'Fail' else 3\n",
        "\n",
        "    # Determine risk category\n",
        "    risk_category = get_risk_category(risk_score)\n",
        "\n",
        "    data.append([\n",
        "        entity_id, annual_clients, infraction_type, infraction_timeline,\n",
        "        public_complaints, sentiment_analysis, inspection_result, risk_score, risk_category\n",
        "    ])\n",
        "\n",
        "# Generate 5% moderate risk entities\n",
        "for i in range(int(num_entities * 0.05)):\n",
        "    entity_id = f\"E{int(num_entities * 0.9) + i:04d}\"\n",
        "    annual_clients = random_clients('Moderate')\n",
        "    infraction_type = random.choices(infraction_types_moderate, infraction_type_probs_moderate)[0]\n",
        "    infraction_timeline = random.choices(infraction_timelines_moderate, infraction_timeline_probs_moderate)[0]\n",
        "    public_complaints = random.choices(complaints_moderate, complaints_probs_moderate)[0]\n",
        "    sentiment_analysis = random.choices(sentiments_moderate, sentiments_probs_moderate)[0]\n",
        "    inspection_result = random.choices(inspection_results_moderate, inspection_results_probs_moderate)[0]\n",
        "\n",
        "    # Calculate the risk score\n",
        "    risk_score = 0\n",
        "    risk_score += 1 if annual_clients < 200 else 2 if annual_clients <= 500 else 3\n",
        "    risk_score += 1 if infraction_type == 'None' else 2 if infraction_type == 'Minor' else 3\n",
        "    risk_score += 1 if infraction_timeline == 'None' else 3 if infraction_timeline == 'Within past year' else 2\n",
        "    risk_score += 1 if public_complaints == 'None' else 2 if public_complaints == 'Minor' else 3\n",
        "    risk_score += 1 if sentiment_analysis == 'None' else 2\n",
        "    risk_score += 1 if inspection_result == 'Pass' else 2 if inspection_result == 'Fail' else 3\n",
        "\n",
        "    # Determine risk category\n",
        "    risk_category = get_risk_category(risk_score)\n",
        "\n",
        "    data.append([\n",
        "        entity_id, annual_clients, infraction_type, infraction_timeline,\n",
        "        public_complaints, sentiment_analysis, inspection_result, risk_score, risk_category\n",
        "    ])\n",
        "\n",
        "# Generate 5% high risk entities\n",
        "for i in range(int(num_entities * 0.05)):\n",
        "    entity_id = f\"E{int(num_entities * 0.95) + i:04d}\"\n",
        "    annual_clients = random_clients('High')\n",
        "    infraction_type = random.choices(infraction_types_high, infraction_type_probs_high)[0]\n",
        "    infraction_timeline = random.choices(infraction_timelines_high, infraction_timeline_probs_high)[0]\n",
        "    public_complaints = random.choices(complaints_high, complaints_probs_high)[0]\n",
        "    sentiment_analysis = random.choices(sentiments_high, sentiments_probs_high)[0]\n",
        "    inspection_result = random.choices(inspection_results_high, inspection_results_probs_high)[0]\n",
        "\n",
        "    # Calculate the risk score\n",
        "    risk_score = 0\n",
        "    risk_score += 1 if annual_clients < 200 else 2 if annual_clients <= 500 else 3\n",
        "    risk_score += 1 if infraction_type == 'None' else 2 if infraction_type == 'Minor' else 3\n",
        "    risk_score += 1 if infraction_timeline == 'None' else 3 if infraction_timeline == 'Within past year' else 2\n",
        "    risk_score += 1 if public_complaints == 'None' else 2 if public_complaints == 'Minor' else 3\n",
        "    risk_score += 1 if sentiment_analysis == 'None' else 2\n",
        "    risk_score += 1 if inspection_result == 'Pass' else 2 if inspection_result == 'Fail' else 3\n",
        "\n",
        "    # Determine risk category\n",
        "    risk_category = get_risk_category(risk_score)\n",
        "\n",
        "    data.append([\n",
        "        entity_id, annual_clients, infraction_type, infraction_timeline,\n",
        "        public_complaints, sentiment_analysis, inspection_result, risk_score, risk_category\n",
        "    ])\n",
        "\n",
        "# Create a DataFrame\n",
        "df = pd.DataFrame(data, columns=[\n",
        "    'Entity ID', 'Annual Clients', 'Infraction Type', 'Infraction Timeline',\n",
        "    'Public Complaints', 'Sentiment Analysis', 'Inspection Results', 'Total Risk Score', 'Risk Category'\n",
        "])\n",
        "\n",
        "# Save to CSV\n",
        "df.to_csv('synthetic_data_dashboard.csv', index=False)\n"
      ]
    },
    {
      "cell_type": "code",
      "execution_count": 83,
      "metadata": {
        "colab": {
          "base_uri": "https://localhost:8080/",
          "height": 276
        },
        "id": "H3Y41dV-kh4Y",
        "outputId": "08976042-a247-4eba-c139-956800502045"
      },
      "outputs": [
        {
          "data": {
            "text/html": [
              "<div>\n",
              "<style scoped>\n",
              "    .dataframe tbody tr th:only-of-type {\n",
              "        vertical-align: middle;\n",
              "    }\n",
              "\n",
              "    .dataframe tbody tr th {\n",
              "        vertical-align: top;\n",
              "    }\n",
              "\n",
              "    .dataframe thead th {\n",
              "        text-align: right;\n",
              "    }\n",
              "</style>\n",
              "<table border=\"1\" class=\"dataframe\">\n",
              "  <thead>\n",
              "    <tr style=\"text-align: right;\">\n",
              "      <th></th>\n",
              "      <th>Entity ID</th>\n",
              "      <th>Annual Clients</th>\n",
              "      <th>Infraction Type</th>\n",
              "      <th>Infraction Timeline</th>\n",
              "      <th>Public Complaints</th>\n",
              "      <th>Sentiment Analysis</th>\n",
              "      <th>Inspection Results</th>\n",
              "      <th>Total Risk Score</th>\n",
              "      <th>Risk Category</th>\n",
              "    </tr>\n",
              "  </thead>\n",
              "  <tbody>\n",
              "    <tr>\n",
              "      <th>0</th>\n",
              "      <td>E0000</td>\n",
              "      <td>179</td>\n",
              "      <td>None</td>\n",
              "      <td>Within past year</td>\n",
              "      <td>None</td>\n",
              "      <td>None</td>\n",
              "      <td>Pass</td>\n",
              "      <td>8</td>\n",
              "      <td>Moderate</td>\n",
              "    </tr>\n",
              "    <tr>\n",
              "      <th>1</th>\n",
              "      <td>E0001</td>\n",
              "      <td>138</td>\n",
              "      <td>None</td>\n",
              "      <td>None</td>\n",
              "      <td>None</td>\n",
              "      <td>None</td>\n",
              "      <td>Pass</td>\n",
              "      <td>6</td>\n",
              "      <td>Low</td>\n",
              "    </tr>\n",
              "    <tr>\n",
              "      <th>2</th>\n",
              "      <td>E0002</td>\n",
              "      <td>157</td>\n",
              "      <td>None</td>\n",
              "      <td>None</td>\n",
              "      <td>None</td>\n",
              "      <td>None</td>\n",
              "      <td>Pass</td>\n",
              "      <td>6</td>\n",
              "      <td>Low</td>\n",
              "    </tr>\n",
              "    <tr>\n",
              "      <th>3</th>\n",
              "      <td>E0003</td>\n",
              "      <td>50</td>\n",
              "      <td>None</td>\n",
              "      <td>None</td>\n",
              "      <td>None</td>\n",
              "      <td>Flagged</td>\n",
              "      <td>Pass</td>\n",
              "      <td>7</td>\n",
              "      <td>Moderate</td>\n",
              "    </tr>\n",
              "    <tr>\n",
              "      <th>4</th>\n",
              "      <td>E0004</td>\n",
              "      <td>150</td>\n",
              "      <td>None</td>\n",
              "      <td>None</td>\n",
              "      <td>None</td>\n",
              "      <td>None</td>\n",
              "      <td>Pass</td>\n",
              "      <td>6</td>\n",
              "      <td>Low</td>\n",
              "    </tr>\n",
              "  </tbody>\n",
              "</table>\n",
              "</div>"
            ],
            "text/plain": [
              "  Entity ID  Annual Clients Infraction Type Infraction Timeline  \\\n",
              "0     E0000             179            None    Within past year   \n",
              "1     E0001             138            None                None   \n",
              "2     E0002             157            None                None   \n",
              "3     E0003              50            None                None   \n",
              "4     E0004             150            None                None   \n",
              "\n",
              "  Public Complaints Sentiment Analysis Inspection Results  Total Risk Score  \\\n",
              "0              None               None               Pass                 8   \n",
              "1              None               None               Pass                 6   \n",
              "2              None               None               Pass                 6   \n",
              "3              None            Flagged               Pass                 7   \n",
              "4              None               None               Pass                 6   \n",
              "\n",
              "  Risk Category  \n",
              "0      Moderate  \n",
              "1           Low  \n",
              "2           Low  \n",
              "3      Moderate  \n",
              "4           Low  "
            ]
          },
          "execution_count": 83,
          "metadata": {},
          "output_type": "execute_result"
        }
      ],
      "source": [
        "df.head()"
      ]
    },
    {
      "cell_type": "markdown",
      "metadata": {},
      "source": [
        "### Understanding distribution of Risk Categories"
      ]
    },
    {
      "cell_type": "code",
      "execution_count": 71,
      "metadata": {},
      "outputs": [
        {
          "name": "stdout",
          "output_type": "stream",
          "text": [
            "Risk Category\n",
            "Moderate    2416\n",
            "Low         2323\n",
            "High         261\n",
            "Name: count, dtype: int64\n",
            "Risk Category\n",
            "Moderate    48.32\n",
            "Low         46.46\n",
            "High         5.22\n",
            "Name: proportion, dtype: float64\n"
          ]
        },
        {
          "data": {
            "image/png": "[encoded data removed]",
            "text/plain": [
              "<Figure size 1000x600 with 1 Axes>"
            ]
          },
          "metadata": {},
          "output_type": "display_data"
        }
      ],
      "source": [
        "# Count the occurrences of each risk category\n",
        "risk_category_counts = df['Risk Category'].value_counts()\n",
        "print(risk_category_counts)\n",
        "\n",
        "# Calculate the percentage of each risk category\n",
        "risk_category_percentages = df['Risk Category'].value_counts(normalize=True) * 100\n",
        "print(risk_category_percentages)\n",
        "\n",
        "\n",
        "# Plot the percentage distribution of risk categories\n",
        "plt.figure(figsize=(10, 6))\n",
        "risk_category_percentages.plot(kind='bar', color='c')\n",
        "plt.title('Percentage Distribution of Risk Categories')\n",
        "plt.xlabel('Risk Category')\n",
        "plt.ylabel('Percentage')\n",
        "plt.show()\n"
      ]
    },
    {
      "cell_type": "code",
      "execution_count": 77,
      "metadata": {},
      "outputs": [
        {
          "name": "stdout",
          "output_type": "stream",
          "text": [
            "Risk Category\n",
            "Low         47.68\n",
            "Moderate    46.88\n",
            "High         5.44\n",
            "Name: proportion, dtype: float64\n"
          ]
        }
      ],
      "source": [
        "risk_level_summary = df['Risk Category'].value_counts(normalize=True) * 100\n",
        "print(risk_level_summary)"
      ]
    }
  ],
  "metadata": {
    "colab": {
      "provenance": []
    },
    "kernelspec": {
      "display_name": "Python 3",
      "name": "python3"
    },
    "language_info": {
      "codemirror_mode": {
        "name": "ipython",
        "version": 3
      },
      "file_extension": ".py",
      "mimetype": "text/x-python",
      "name": "python",
      "nbconvert_exporter": "python",
      "pygments_lexer": "ipython3",
      "version": "3.9.6"
    }
  },
  "nbformat": 4,
  "nbformat_minor": 0
}
