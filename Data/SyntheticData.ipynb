{
  "cells": [
    {
      "cell_type": "code",
      "execution_count": null,
      "metadata": {
        "id": "hD5FNBEkkKty"
      },
      "outputs": [
        {
          "ename": "",
          "evalue": "",
          "output_type": "error",
          "traceback": [
            "\u001b[1;31mThe kernel failed to start due to the missing module 'dateutil'. Consider installing this module.\n",
            "\u001b[1;31mClick <a href='https://aka.ms/kernelFailuresMissingModule'>here</a> for more info."
          ]
        }
      ],
      "source": [
        "import random\n",
        "import pandas as pd\n",
        "\n",
        "# Define the number of entities\n",
        "num_entities = 5000\n",
        "\n",
        "# Define value ranges and probabilities\n",
        "clients_range = [(0, 200, 40), (201, 500, 30), (501, 1000, 30)]\n",
        "infraction_types = ['None', 'Minor', 'Major']\n",
        "infraction_type_probs = [0.5, 0.3, 0.2]\n",
        "infraction_timelines = ['None', 'Within past year', 'Within past 1-3 years']\n",
        "infraction_timeline_probs = [0.5, 0.25, 0.25]\n",
        "complaints = ['None', 'Minor', 'Major']\n",
        "complaints_probs = [0.6, 0.25, 0.15]\n",
        "sentiments = ['None', 'Flagged']\n",
        "sentiments_probs = [0.7, 0.3]\n",
        "inspection_results = ['Pass', 'Fail', 'None']\n",
        "inspection_results_probs = [0.5, 0.25, 0.25]\n",
        "\n",
        "# Function to generate a random number of clients\n",
        "def random_clients():\n",
        "    choice = random.choices(clients_range, [prob for _, _, prob in clients_range])[0]\n",
        "    return random.randint(choice[0], choice[1])\n",
        "\n",
        "# Generate the data\n",
        "data = []\n",
        "for i in range(1, num_entities + 1):\n",
        "    entity_id = f\"E{i:04d}\"\n",
        "    annual_clients = random_clients()\n",
        "    infraction_type = random.choices(infraction_types, infraction_type_probs)[0]\n",
        "    infraction_timeline = random.choices(infraction_timelines, infraction_timeline_probs)[0]\n",
        "    public_complaints = random.choices(complaints, complaints_probs)[0]\n",
        "    sentiment_analysis = random.choices(sentiments, sentiments_probs)[0]\n",
        "    inspection_result = random.choices(inspection_results, inspection_results_probs)[0]\n",
        "\n",
        "    # Calculate the risk score\n",
        "    risk_score = 0\n",
        "    risk_score += 1 if annual_clients < 200 else 2 if annual_clients <= 500 else 3\n",
        "    risk_score += 0 if infraction_type == 'None' else 2 if infraction_type == 'Minor' else 3\n",
        "    risk_score += 0 if infraction_timeline == 'None' else 3 if infraction_timeline == 'Within past year' else 2\n",
        "    risk_score += 0 if public_complaints == 'None' else 2 if public_complaints == 'Minor' else 3\n",
        "    risk_score += 0 if sentiment_analysis == 'None' else 3\n",
        "    risk_score += 0 if inspection_result == 'Pass' else 3 if inspection_result == 'Fail' else 1\n",
        "\n",
        "    data.append([\n",
        "        entity_id, annual_clients, infraction_type, infraction_timeline,\n",
        "        public_complaints, sentiment_analysis, inspection_result, risk_score\n",
        "    ])\n",
        "\n",
        "# Create a DataFrame\n",
        "df = pd.DataFrame(data, columns=[\n",
        "    'Entity ID', 'Annual Clients', 'Infraction Type', 'Infraction Timeline',\n",
        "    'Public Complaints', 'Sentiment Analysis', 'Inspection Results', 'Total Risk Score'\n",
        "])\n",
        "\n",
        "# Save to CSV\n",
        "df.to_csv('data.csv', index=False)\n"
      ]
    },
    {
      "cell_type": "code",
      "execution_count": null,
      "metadata": {
        "colab": {
          "base_uri": "https://localhost:8080/",
          "height": 258
        },
        "id": "H3Y41dV-kh4Y",
        "outputId": "ac361db3-183f-49a9-a9aa-b7f98e63aa73"
      },
      "outputs": [
        {
          "ename": "",
          "evalue": "",
          "output_type": "error",
          "traceback": [
            "\u001b[1;31mThe kernel failed to start due to the missing module 'dateutil'. Consider installing this module.\n",
            "\u001b[1;31mClick <a href='https://aka.ms/kernelFailuresMissingModule'>here</a> for more info."
          ]
        }
      ],
      "source": [
        "df.head()"
      ]
    },
    {
      "cell_type": "code",
      "execution_count": null,
      "metadata": {
        "id": "EVrqEeHuVpud"
      },
      "outputs": [
        {
          "ename": "",
          "evalue": "",
          "output_type": "error",
          "traceback": [
            "\u001b[1;31mThe kernel failed to start due to the missing module 'dateutil'. Consider installing this module.\n",
            "\u001b[1;31mClick <a href='https://aka.ms/kernelFailuresMissingModule'>here</a> for more info."
          ]
        }
      ],
      "source": []
    }
  ],
  "metadata": {
    "colab": {
      "provenance": []
    },
    "kernelspec": {
      "display_name": "Python 3",
      "language": "python",
      "name": "python3"
    },
    "language_info": {
      "name": "python",
      "version": "3.8.2 (default, Aug 10 2020, 05:49:21) \n[Clang 12.0.0 (clang-1200.0.31.1)]"
    },
    "vscode": {
      "interpreter": {
        "hash": "31f2aee4e71d21fbe5cf8b01ff0e069b9275f58929596ceb00d14d90e3e16cd6"
      }
    }
  },
  "nbformat": 4,
  "nbformat_minor": 0
}
