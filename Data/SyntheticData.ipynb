{
  "cells": [
    {
      "cell_type": "markdown",
      "metadata": {},
      "source": [
        "### Import libraries"
      ]
    },
    {
      "cell_type": "code",
      "execution_count": 1,
      "metadata": {},
      "outputs": [
        {
          "name": "stderr",
          "output_type": "stream",
          "text": [
            "Matplotlib is building the font cache; this may take a moment.\n"
          ]
        }
      ],
      "source": [
        "import random\n",
        "import pandas as pd\n",
        "import matplotlib.pyplot as plt\n",
        "import seaborn as sns"
      ]
    },
    {
      "cell_type": "markdown",
      "metadata": {},
      "source": [
        "### Define features"
      ]
    },
    {
      "cell_type": "code",
      "execution_count": 7,
      "metadata": {
        "id": "hD5FNBEkkKty"
      },
      "outputs": [],
      "source": [
        "# Define the number of entities\n",
        "num_entities = 5000\n",
        "\n",
        "# Define value ranges and probabilities\n",
        "clients_range = [(11, 200, 40), (201, 500, 30), (501, 1000, 30)]\n",
        "infraction_types = ['None', 'Minor', 'Major']\n",
        "infraction_type_probs = [0.5, 0.3, 0.2]\n",
        "infraction_timelines = ['None', 'Within past year', 'Within past 1-3 years']\n",
        "infraction_timeline_probs = [0.5, 0.25, 0.25]\n",
        "complaints = ['None', 'Minor', 'Major']\n",
        "complaints_probs = [0.6, 0.25, 0.15]\n",
        "sentiments = ['None', 'Flagged']\n",
        "sentiments_probs = [0.7, 0.3]\n",
        "inspection_results = ['Pass', 'Fail', 'None']\n",
        "inspection_results_probs = [0.5, 0.25, 0.25]\n"
      ]
    },
    {
      "cell_type": "markdown",
      "metadata": {},
      "source": [
        "### Define Functions"
      ]
    },
    {
      "cell_type": "code",
      "execution_count": 8,
      "metadata": {},
      "outputs": [],
      "source": [
        "# Function to generate a random number of clients\n",
        "def random_clients():\n",
        "    choice = random.choices(clients_range, [prob for _, _, prob in clients_range])[0]\n",
        "    return random.randint(choice[0], choice[1])\n",
        "\n",
        "# Function to determine risk category based on total risk score\n",
        "def get_risk_category(risk_score):\n",
        "    if risk_score < 7:\n",
        "        return 'Low'\n",
        "    elif 7 <= risk_score <= 12:\n",
        "        return 'Moderate'\n",
        "    else:\n",
        "        return 'High'"
      ]
    },
    {
      "cell_type": "markdown",
      "metadata": {},
      "source": [
        "### Synthetic Data generation"
      ]
    },
    {
      "cell_type": "code",
      "execution_count": 9,
      "metadata": {},
      "outputs": [],
      "source": [
        "# Generate the data\n",
        "data = []\n",
        "for i in range(1, num_entities + 1):\n",
        "    entity_id = f\"E{i:04d}\"\n",
        "    annual_clients = random_clients()\n",
        "    infraction_type = random.choices(infraction_types, infraction_type_probs)[0]\n",
        "    infraction_timeline = random.choices(infraction_timelines, infraction_timeline_probs)[0]\n",
        "    public_complaints = random.choices(complaints, complaints_probs)[0]\n",
        "    sentiment_analysis = random.choices(sentiments, sentiments_probs)[0]\n",
        "    inspection_result = random.choices(inspection_results, inspection_results_probs)[0]\n",
        "\n",
        "    # Calculate the risk score\n",
        "    risk_score = 0\n",
        "    risk_score += 1 if annual_clients < 200 else 2 if annual_clients <= 500 else 3\n",
        "    risk_score += 1 if infraction_type == 'None' else 2 if infraction_type == 'Minor' else 3\n",
        "    risk_score += 1 if infraction_timeline == 'None' else 3 if infraction_timeline == 'Within past year' else 2\n",
        "    risk_score += 1 if public_complaints == 'None' else 2 if public_complaints == 'Minor' else 3\n",
        "    risk_score += 1 if sentiment_analysis == 'None' else 2\n",
        "    risk_score += 1 if inspection_result == 'Pass' else 2 if inspection_result == 'Fail' else 3\n",
        "\n",
        "    # Determine risk category\n",
        "    risk_category = get_risk_category(risk_score)\n",
        "\n",
        "    data.append([\n",
        "        entity_id, annual_clients, infraction_type, infraction_timeline,\n",
        "        public_complaints, sentiment_analysis, inspection_result, risk_score, risk_category\n",
        "    ])\n",
        "\n",
        "# Create a DataFrame\n",
        "df = pd.DataFrame(data, columns=[\n",
        "    'Entity ID', 'Annual Clients', 'Infraction Type', 'Infraction Timeline',\n",
        "    'Public Complaints', 'Sentiment Analysis', 'Inspection Results', 'Total Risk Score', 'Risk Category'\n",
        "])\n",
        "\n",
        "# Save to CSV\n",
        "df.to_csv('synthetic_data.csv', index=False)"
      ]
    },
    {
      "cell_type": "code",
      "execution_count": 10,
      "metadata": {
        "colab": {
          "base_uri": "https://localhost:8080/",
          "height": 276
        },
        "id": "H3Y41dV-kh4Y",
        "outputId": "08976042-a247-4eba-c139-956800502045"
      },
      "outputs": [
        {
          "data": {
            "text/html": [
              "<div>\n",
              "<style scoped>\n",
              "    .dataframe tbody tr th:only-of-type {\n",
              "        vertical-align: middle;\n",
              "    }\n",
              "\n",
              "    .dataframe tbody tr th {\n",
              "        vertical-align: top;\n",
              "    }\n",
              "\n",
              "    .dataframe thead th {\n",
              "        text-align: right;\n",
              "    }\n",
              "</style>\n",
              "<table border=\"1\" class=\"dataframe\">\n",
              "  <thead>\n",
              "    <tr style=\"text-align: right;\">\n",
              "      <th></th>\n",
              "      <th>Entity ID</th>\n",
              "      <th>Annual Clients</th>\n",
              "      <th>Infraction Type</th>\n",
              "      <th>Infraction Timeline</th>\n",
              "      <th>Public Complaints</th>\n",
              "      <th>Sentiment Analysis</th>\n",
              "      <th>Inspection Results</th>\n",
              "      <th>Total Risk Score</th>\n",
              "      <th>Risk Category</th>\n",
              "    </tr>\n",
              "  </thead>\n",
              "  <tbody>\n",
              "    <tr>\n",
              "      <th>0</th>\n",
              "      <td>E0001</td>\n",
              "      <td>116</td>\n",
              "      <td>None</td>\n",
              "      <td>None</td>\n",
              "      <td>Minor</td>\n",
              "      <td>Flagged</td>\n",
              "      <td>Fail</td>\n",
              "      <td>9</td>\n",
              "      <td>Moderate</td>\n",
              "    </tr>\n",
              "    <tr>\n",
              "      <th>1</th>\n",
              "      <td>E0002</td>\n",
              "      <td>84</td>\n",
              "      <td>None</td>\n",
              "      <td>Within past year</td>\n",
              "      <td>Minor</td>\n",
              "      <td>None</td>\n",
              "      <td>None</td>\n",
              "      <td>11</td>\n",
              "      <td>Moderate</td>\n",
              "    </tr>\n",
              "    <tr>\n",
              "      <th>2</th>\n",
              "      <td>E0003</td>\n",
              "      <td>166</td>\n",
              "      <td>None</td>\n",
              "      <td>Within past year</td>\n",
              "      <td>None</td>\n",
              "      <td>None</td>\n",
              "      <td>Pass</td>\n",
              "      <td>8</td>\n",
              "      <td>Moderate</td>\n",
              "    </tr>\n",
              "    <tr>\n",
              "      <th>3</th>\n",
              "      <td>E0004</td>\n",
              "      <td>84</td>\n",
              "      <td>None</td>\n",
              "      <td>Within past year</td>\n",
              "      <td>None</td>\n",
              "      <td>None</td>\n",
              "      <td>Fail</td>\n",
              "      <td>9</td>\n",
              "      <td>Moderate</td>\n",
              "    </tr>\n",
              "    <tr>\n",
              "      <th>4</th>\n",
              "      <td>E0005</td>\n",
              "      <td>186</td>\n",
              "      <td>Major</td>\n",
              "      <td>None</td>\n",
              "      <td>None</td>\n",
              "      <td>None</td>\n",
              "      <td>None</td>\n",
              "      <td>10</td>\n",
              "      <td>Moderate</td>\n",
              "    </tr>\n",
              "  </tbody>\n",
              "</table>\n",
              "</div>"
            ],
            "text/plain": [
              "  Entity ID  Annual Clients Infraction Type Infraction Timeline  \\\n",
              "0     E0001             116            None                None   \n",
              "1     E0002              84            None    Within past year   \n",
              "2     E0003             166            None    Within past year   \n",
              "3     E0004              84            None    Within past year   \n",
              "4     E0005             186           Major                None   \n",
              "\n",
              "  Public Complaints Sentiment Analysis Inspection Results  Total Risk Score  \\\n",
              "0             Minor            Flagged               Fail                 9   \n",
              "1             Minor               None               None                11   \n",
              "2              None               None               Pass                 8   \n",
              "3              None               None               Fail                 9   \n",
              "4              None               None               None                10   \n",
              "\n",
              "  Risk Category  \n",
              "0      Moderate  \n",
              "1      Moderate  \n",
              "2      Moderate  \n",
              "3      Moderate  \n",
              "4      Moderate  "
            ]
          },
          "execution_count": 10,
          "metadata": {},
          "output_type": "execute_result"
        }
      ],
      "source": [
        "df.head()"
      ]
    },
    {
      "cell_type": "markdown",
      "metadata": {},
      "source": [
        "### Understanding distribution of Risk Categories"
      ]
    },
    {
      "cell_type": "code",
      "execution_count": 6,
      "metadata": {
        "colab": {
          "base_uri": "https://localhost:8080/",
          "height": 795
        },
        "id": "qDXIohDpoqgs",
        "outputId": "b9cf0f9a-f679-4e4e-a28c-79189f2346dd"
      },
      "outputs": [
        {
          "name": "stdout",
          "output_type": "stream",
          "text": [
            "Risk Category\n",
            "Moderate    4456\n",
            "High         439\n",
            "Low          105\n",
            "Name: count, dtype: int64\n",
            "Risk Category\n",
            "Moderate    89.12\n",
            "High         8.78\n",
            "Low          2.10\n",
            "Name: proportion, dtype: float64\n"
          ]
        },
        {
          "data": {
            "image/png": "[encoded data removed]",
            "text/plain": [
              "<Figure size 1000x600 with 1 Axes>"
            ]
          },
          "metadata": {},
          "output_type": "display_data"
        }
      ],
      "source": [
        "\n",
        "# Count the occurrences of each risk category\n",
        "risk_category_counts = df['Risk Category'].value_counts()\n",
        "print(risk_category_counts)\n",
        "\n",
        "# Calculate the percentage of each risk category\n",
        "risk_category_percentages = df['Risk Category'].value_counts(normalize=True) * 100\n",
        "print(risk_category_percentages)\n",
        "\n",
        "\n",
        "# Plot the percentage distribution of risk categories\n",
        "plt.figure(figsize=(10, 6))\n",
        "risk_category_percentages.plot(kind='bar', color='c')\n",
        "plt.title('Percentage Distribution of Risk Categories')\n",
        "plt.xlabel('Risk Category')\n",
        "plt.ylabel('Percentage')\n",
        "plt.show()\n"
      ]
    }
  ],
  "metadata": {
    "colab": {
      "provenance": []
    },
    "kernelspec": {
      "display_name": "Python 3",
      "name": "python3"
    },
    "language_info": {
      "codemirror_mode": {
        "name": "ipython",
        "version": 3
      },
      "file_extension": ".py",
      "mimetype": "text/x-python",
      "name": "python",
      "nbconvert_exporter": "python",
      "pygments_lexer": "ipython3",
      "version": "3.9.6"
    }
  },
  "nbformat": 4,
  "nbformat_minor": 0
}
